{
  "nbformat": 4,
  "nbformat_minor": 0,
  "metadata": {
    "colab": {
      "provenance": [],
      "mount_file_id": "1aUEb1VYl3dMZDvBAGl3qxAuXYAc3bFd_",
      "authorship_tag": "ABX9TyOAIQTAkxlWVSMbKal5duN5"
    },
    "kernelspec": {
      "name": "python3",
      "display_name": "Python 3"
    },
    "language_info": {
      "name": "python"
    }
  },
  "cells": [
    {
      "cell_type": "code",
      "execution_count": null,
      "metadata": {
        "id": "U68MreK-YyD7"
      },
      "outputs": [],
      "source": [
        "import tensorflow as tf\n",
        "from keras.preprocessing.image import ImageDataGenerator\n"
      ]
    },
    {
      "cell_type": "code",
      "source": [
        "from google.colab import drive\n",
        "drive.mount('/content/drive')"
      ],
      "metadata": {
        "id": "gcHaxMfiHENv"
      },
      "execution_count": null,
      "outputs": []
    },
    {
      "cell_type": "code",
      "source": [
        "tf.__version__"
      ],
      "metadata": {
        "colab": {
          "base_uri": "https://localhost:8080/",
          "height": 35
        },
        "id": "gJwoFjtdfpsT",
        "outputId": "454cd352-b742-4e91-af55-3df8d86a1525"
      },
      "execution_count": null,
      "outputs": [
        {
          "output_type": "execute_result",
          "data": {
            "application/vnd.google.colaboratory.intrinsic+json": {
              "type": "string"
            },
            "text/plain": [
              "'2.7.0'"
            ]
          },
          "metadata": {},
          "execution_count": 2
        }
      ]
    },
    {
      "cell_type": "code",
      "source": [],
      "metadata": {
        "id": "-67VokFk_8qm"
      },
      "execution_count": null,
      "outputs": []
    },
    {
      "cell_type": "markdown",
      "source": [
        "Pre-processing of training set\n"
      ],
      "metadata": {
        "id": "b9xXdCWEiDHX"
      }
    },
    {
      "cell_type": "code",
      "source": [
        "train_datagen=ImageDataGenerator(\n",
        "    rescale=1./225,\n",
        "    shear_range=0.2,\n",
        "    zoom_range=0.2,\n",
        "    horizontal_flip=True\n",
        ")\n",
        "\n",
        "training_set=train_datagen.flow_from_directory(\"/content/drive/My Drive/CNN_final/training_set\",\n",
        "     target_size=(64,64),\n",
        "     batch_size=32,\n",
        "     class_mode='binary'\n",
        "     )"
      ],
      "metadata": {
        "colab": {
          "base_uri": "https://localhost:8080/"
        },
        "id": "xvKYtyIqfwSz",
        "outputId": "a9132d82-dd23-4bcf-c173-437b68592cd5"
      },
      "execution_count": null,
      "outputs": [
        {
          "output_type": "stream",
          "name": "stdout",
          "text": [
            "Found 8000 images belonging to 2 classes.\n"
          ]
        }
      ]
    },
    {
      "cell_type": "markdown",
      "source": [
        "Pre-processing of test set\n"
      ],
      "metadata": {
        "id": "fo79pNeDiIyx"
      }
    },
    {
      "cell_type": "code",
      "source": [
        "test_datagen=ImageDataGenerator(\n",
        "    rescale=1./225\n",
        ")\n",
        "\n",
        "test_set=test_datagen.flow_from_directory(\"/content/drive/My Drive/CNN_final/test_set\",\n",
        "    target_size=(64,64),\n",
        "    batch_size=32,\n",
        "    class_mode='binary'\n",
        ")"
      ],
      "metadata": {
        "colab": {
          "base_uri": "https://localhost:8080/"
        },
        "id": "7s3Q_nluiHNm",
        "outputId": "58013e22-d5b3-4be5-de7d-5fcd00c3967f"
      },
      "execution_count": null,
      "outputs": [
        {
          "output_type": "stream",
          "name": "stdout",
          "text": [
            "Found 2000 images belonging to 2 classes.\n"
          ]
        }
      ]
    },
    {
      "cell_type": "code",
      "source": [
        "#initializing CNN\n",
        "cnn=tf.keras.models.Sequential()"
      ],
      "metadata": {
        "id": "5uyC4-s7zT6F"
      },
      "execution_count": null,
      "outputs": []
    },
    {
      "cell_type": "code",
      "source": [
        "#convolution\n",
        "cnn.add(tf.keras.layers.Conv2D(filters=32,input_shape=(64,64,3),kernel_size=3,activation='relu'))"
      ],
      "metadata": {
        "id": "pfsTnYt1ze5c"
      },
      "execution_count": null,
      "outputs": []
    },
    {
      "cell_type": "code",
      "source": [
        "#pooling\n",
        "cnn.add(tf.keras.layers.MaxPool2D(pool_size=2,strides=2))"
      ],
      "metadata": {
        "id": "lKqBQOAZ1dPt"
      },
      "execution_count": null,
      "outputs": []
    },
    {
      "cell_type": "code",
      "source": [
        "#aadding a second convolutional layer\n",
        "cnn.add(tf.keras.layers.Conv2D(filters=32,kernel_size=3,activation='relu'))"
      ],
      "metadata": {
        "id": "eZj2CRVk7h2o"
      },
      "execution_count": null,
      "outputs": []
    },
    {
      "cell_type": "code",
      "source": [
        "#maxpooling\n",
        "cnn.add(tf.keras.layers.MaxPool2D(pool_size=2,strides=2))"
      ],
      "metadata": {
        "id": "89ksIS_s7okY"
      },
      "execution_count": null,
      "outputs": []
    },
    {
      "cell_type": "code",
      "source": [
        "#flattening\n",
        "cnn.add(tf.keras.layers.Flatten())"
      ],
      "metadata": {
        "id": "JBgxvGfx7-T6"
      },
      "execution_count": null,
      "outputs": []
    },
    {
      "cell_type": "code",
      "source": [
        "#full connection\n",
        "cnn.add(tf.keras.layers.Dense(units=128,activation='relu'))"
      ],
      "metadata": {
        "id": "1ECVWDdV8MaH"
      },
      "execution_count": null,
      "outputs": []
    },
    {
      "cell_type": "code",
      "source": [
        "#output layer\n",
        "cnn.add(tf.keras.layers.Dense(units=1,activation='sigmoid'))"
      ],
      "metadata": {
        "id": "QtnCwNO_9Ct_"
      },
      "execution_count": null,
      "outputs": []
    },
    {
      "cell_type": "markdown",
      "source": [
        "Training the CNN"
      ],
      "metadata": {
        "id": "rvGyKzQB95AL"
      }
    },
    {
      "cell_type": "code",
      "source": [
        "#compiling the CNN\n",
        "cnn.compile(optimizer='adam',loss='binary_crossentropy',metrics=['accuracy'])"
      ],
      "metadata": {
        "id": "Ntal3HKE93uI"
      },
      "execution_count": null,
      "outputs": []
    },
    {
      "cell_type": "markdown",
      "source": [
        "Training the Cnn on training set and evaluating on test set\n"
      ],
      "metadata": {
        "id": "2UsenGuS-otx"
      }
    },
    {
      "cell_type": "code",
      "source": [
        "cnn.fit(x=training_set,validation_data=test_set,steps_per_epoch=40, epochs=25)"
      ],
      "metadata": {
        "colab": {
          "base_uri": "https://localhost:8080/"
        },
        "id": "lVqFiD2CE8VS",
        "outputId": "3fb030dd-3c76-4628-bca9-6dde1deb5dd6"
      },
      "execution_count": null,
      "outputs": [
        {
          "output_type": "stream",
          "name": "stdout",
          "text": [
            "Epoch 1/25\n",
            "40/40 [==============================] - 27s 689ms/step - loss: 0.5667 - accuracy: 0.6938 - val_loss: 0.5526 - val_accuracy: 0.7185\n",
            "Epoch 2/25\n",
            "40/40 [==============================] - 26s 645ms/step - loss: 0.5440 - accuracy: 0.7312 - val_loss: 0.5547 - val_accuracy: 0.7275\n",
            "Epoch 3/25\n",
            "40/40 [==============================] - 24s 603ms/step - loss: 0.5447 - accuracy: 0.7117 - val_loss: 0.5410 - val_accuracy: 0.7360\n",
            "Epoch 4/25\n",
            "40/40 [==============================] - 27s 670ms/step - loss: 0.5490 - accuracy: 0.7234 - val_loss: 0.5316 - val_accuracy: 0.7355\n",
            "Epoch 5/25\n",
            "40/40 [==============================] - 24s 610ms/step - loss: 0.5546 - accuracy: 0.7289 - val_loss: 0.5537 - val_accuracy: 0.7210\n",
            "Epoch 6/25\n",
            "40/40 [==============================] - 23s 574ms/step - loss: 0.5491 - accuracy: 0.7242 - val_loss: 0.5426 - val_accuracy: 0.7360\n",
            "Epoch 7/25\n",
            "40/40 [==============================] - 23s 581ms/step - loss: 0.5495 - accuracy: 0.7242 - val_loss: 0.5491 - val_accuracy: 0.7265\n",
            "Epoch 8/25\n",
            "40/40 [==============================] - 22s 561ms/step - loss: 0.5053 - accuracy: 0.7555 - val_loss: 0.5406 - val_accuracy: 0.7150\n",
            "Epoch 9/25\n",
            "40/40 [==============================] - 23s 570ms/step - loss: 0.5195 - accuracy: 0.7352 - val_loss: 0.5150 - val_accuracy: 0.7465\n",
            "Epoch 10/25\n",
            "40/40 [==============================] - 22s 566ms/step - loss: 0.5262 - accuracy: 0.7516 - val_loss: 0.5195 - val_accuracy: 0.7450\n",
            "Epoch 11/25\n",
            "40/40 [==============================] - 23s 577ms/step - loss: 0.4872 - accuracy: 0.7586 - val_loss: 0.6048 - val_accuracy: 0.7230\n",
            "Epoch 12/25\n",
            "40/40 [==============================] - 24s 591ms/step - loss: 0.5338 - accuracy: 0.7195 - val_loss: 0.5120 - val_accuracy: 0.7465\n",
            "Epoch 13/25\n",
            "40/40 [==============================] - 22s 564ms/step - loss: 0.5082 - accuracy: 0.7664 - val_loss: 0.5789 - val_accuracy: 0.7270\n",
            "Epoch 14/25\n",
            "40/40 [==============================] - 22s 546ms/step - loss: 0.5227 - accuracy: 0.7602 - val_loss: 0.5070 - val_accuracy: 0.7565\n",
            "Epoch 15/25\n",
            "40/40 [==============================] - 22s 546ms/step - loss: 0.4738 - accuracy: 0.7688 - val_loss: 0.5540 - val_accuracy: 0.7425\n",
            "Epoch 16/25\n",
            "40/40 [==============================] - 22s 556ms/step - loss: 0.5077 - accuracy: 0.7461 - val_loss: 0.5044 - val_accuracy: 0.7530\n",
            "Epoch 17/25\n",
            "40/40 [==============================] - 22s 556ms/step - loss: 0.4940 - accuracy: 0.7617 - val_loss: 0.5300 - val_accuracy: 0.7460\n",
            "Epoch 18/25\n",
            "40/40 [==============================] - 22s 565ms/step - loss: 0.5059 - accuracy: 0.7672 - val_loss: 0.5030 - val_accuracy: 0.7510\n",
            "Epoch 19/25\n",
            "40/40 [==============================] - 22s 546ms/step - loss: 0.4959 - accuracy: 0.7711 - val_loss: 0.5078 - val_accuracy: 0.7600\n",
            "Epoch 20/25\n",
            "40/40 [==============================] - 23s 568ms/step - loss: 0.5028 - accuracy: 0.7586 - val_loss: 0.4963 - val_accuracy: 0.7560\n",
            "Epoch 21/25\n",
            "40/40 [==============================] - 23s 580ms/step - loss: 0.4965 - accuracy: 0.7547 - val_loss: 0.6000 - val_accuracy: 0.7075\n",
            "Epoch 22/25\n",
            "40/40 [==============================] - 23s 574ms/step - loss: 0.4959 - accuracy: 0.7609 - val_loss: 0.4957 - val_accuracy: 0.7670\n",
            "Epoch 23/25\n",
            "40/40 [==============================] - 23s 573ms/step - loss: 0.4916 - accuracy: 0.7648 - val_loss: 0.5437 - val_accuracy: 0.7360\n",
            "Epoch 24/25\n",
            "40/40 [==============================] - 23s 578ms/step - loss: 0.4570 - accuracy: 0.7734 - val_loss: 0.5305 - val_accuracy: 0.7495\n",
            "Epoch 25/25\n",
            "40/40 [==============================] - 22s 565ms/step - loss: 0.5160 - accuracy: 0.7531 - val_loss: 0.5151 - val_accuracy: 0.7470\n"
          ]
        },
        {
          "output_type": "execute_result",
          "data": {
            "text/plain": [
              "<keras.callbacks.History at 0x7f840aab7a50>"
            ]
          },
          "metadata": {},
          "execution_count": 29
        }
      ]
    },
    {
      "cell_type": "code",
      "source": [
        "import numpy as np\n",
        "from keras.preprocessing import image\n",
        "test_image=image.load_img(\"/content/drive/My Drive/CNN_final/single_prediction/cat_or_dog_7.jpg\",target_size=(64,64))\n",
        "#converting PIL to array\n",
        "test_image=image.img_to_array(test_image)\n",
        "test_image=np.expand_dims(test_image,axis=0)\n",
        "result=cnn.predict(test_image/255)\n",
        "training_set.class_indices\n",
        "#dog-1,cat=0\n",
        "if result[0][0]>0.5:\n",
        "  prediction='dog'\n",
        "else:\n",
        "  prediction='cat'\n",
        "print(prediction)\n"
      ],
      "metadata": {
        "id": "oPLPJBsIfTeU",
        "colab": {
          "base_uri": "https://localhost:8080/"
        },
        "outputId": "8a83b230-d93c-4600-c05b-a3589ffbe933"
      },
      "execution_count": null,
      "outputs": [
        {
          "output_type": "stream",
          "name": "stdout",
          "text": [
            "dog\n"
          ]
        }
      ]
    }
  ]
}